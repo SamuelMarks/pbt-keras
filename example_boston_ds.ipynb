{
 "cells": [
  {
   "cell_type": "code",
   "execution_count": 1,
   "metadata": {},
   "outputs": [
    {
     "name": "stderr",
     "output_type": "stream",
     "text": [
      "Using TensorFlow backend.\n"
     ]
    }
   ],
   "source": [
    "import keras\n",
    "import keras.backend as K\n",
    "import numpy as np\n",
    "import tensorflow as tf\n",
    "from sklearn.model_selection import ParameterGrid\n",
    "\n",
    "import pbt\n",
    "from pbt.utils import train_population"
   ]
  },
  {
   "cell_type": "code",
   "execution_count": 2,
   "metadata": {},
   "outputs": [],
   "source": [
    "session_conf = tf.ConfigProto(intra_op_parallelism_threads=1,\n",
    "                              inter_op_parallelism_threads=1)\n",
    "sess = tf.Session(graph=tf.get_default_graph(), config=session_conf)\n",
    "K.set_session(sess)"
   ]
  },
  {
   "cell_type": "code",
   "execution_count": 3,
   "metadata": {},
   "outputs": [],
   "source": [
    "VALIDATION_SPLIT = 0.3\n",
    "# population_size = 20\n",
    "BATCH_SIZE = 32  # one step in a member is equivalent to train on a batch\n",
    "TOTAL_STEPS = 1000  # total number of steps before ending training\n",
    "STEPS_READY = 50  # number of steps before updating a member\n",
    "STEPS_SAVE = 100  # number of steps before saving the status of the population"
   ]
  },
  {
   "cell_type": "code",
   "execution_count": 4,
   "metadata": {},
   "outputs": [],
   "source": [
    "# ------------------------------------------\n",
    "# SEARCH SPACE\n",
    "# ------------------------------------------\n",
    "l1_values = np.linspace(1e-5, 0.01, num=6).tolist()\n",
    "l2_values = np.linspace(1e-5, 0.01, num=6).tolist()\n",
    "param_grid = ParameterGrid(dict(l1=l1_values, l2=l2_values))"
   ]
  },
  {
   "cell_type": "code",
   "execution_count": 5,
   "metadata": {},
   "outputs": [],
   "source": [
    "def build_fn(data_dim, l1=1e-5, l2=1e-5):\n",
    "    \"\"\"Returns a function which can be called with no parameters to create a new\n",
    "     model.\n",
    "\n",
    "    The returned function is required by Member, which invokes it to construct a\n",
    "    new instance of the model.\n",
    "\n",
    "    Returns:\n",
    "        function: a function that can be called to get a compiled Keras model.\n",
    "\n",
    "    \"\"\"\n",
    "\n",
    "    def _build_fn():\n",
    "        # Set seed to get same weight initialization\n",
    "        np.random.seed(42)\n",
    "        model = keras.models.Sequential([\n",
    "            keras.layers.Dense(64,\n",
    "                               activation='relu',\n",
    "                               input_shape=(data_dim,),\n",
    "                               kernel_regularizer=\n",
    "                               pbt.hyperparameters.l1_l2(l1, l2)),\n",
    "            keras.layers.Dense(1,\n",
    "                               kernel_regularizer=\n",
    "                               pbt.hyperparameters.l1_l2(l1, l2)),\n",
    "        ])\n",
    "        model.compile(optimizer='adam', loss='mean_squared_error')\n",
    "        return model\n",
    "\n",
    "    return _build_fn"
   ]
  },
  {
   "cell_type": "code",
   "execution_count": 6,
   "metadata": {},
   "outputs": [],
   "source": [
    "def show_results(df):\n",
    "    print('***** RESULTS *****')\n",
    "    population_size = df['model_id'].nunique()\n",
    "    df_final = df.tail(population_size)\n",
    "    print('** Ranking **')\n",
    "    print(df_final[['model_id', 'loss']].sort_values('loss'))\n",
    "    print('** Statistics **')\n",
    "    print(df_final['loss'].describe())\n",
    "    print('** Best hyperparameters **')\n",
    "    best = df.iloc[[df_final['loss'].idxmin()]]\n",
    "    print(best.filter(regex=\".+:.+\"))"
   ]
  },
  {
   "cell_type": "code",
   "execution_count": 7,
   "metadata": {},
   "outputs": [
    {
     "name": "stdout",
     "output_type": "stream",
     "text": [
      "Train examples: 404, test examples: 102\n"
     ]
    }
   ],
   "source": [
    "# Load dataset. Split training dataset into train and validation sets\n",
    "dataset = tf.keras.datasets.boston_housing\n",
    "(x_train, y_train), (x_test, y_test) = dataset.load_data()\n",
    "print('Train examples: {}, test examples: {}'.format(\n",
    "    x_train.shape[0], x_test.shape[0]\n",
    "))\n",
    "data_dim = x_train.shape[1]"
   ]
  },
  {
   "cell_type": "code",
   "execution_count": 8,
   "metadata": {},
   "outputs": [
    {
     "name": "stdout",
     "output_type": "stream",
     "text": [
      "1000/1000 [==============================] - 306s 306ms/step - min: 22.0262 - max: 35.8625 - mean: 25.9173\n",
      "***** RESULTS *****\n",
      "** Ranking **\n",
      "            model_id       loss\n",
      "330  139625074369928  22.026169\n",
      "339  139625061307616  22.858138\n",
      "336  139625064962424  22.881347\n",
      "342  139625055506504  23.264763\n",
      "337  139625063467160  23.534788\n",
      "338  139625062724944  23.546447\n",
      "348  139625048515304  23.553898\n",
      "354  139625040971144  23.619396\n",
      "349  139625047109816  23.628204\n",
      "355  139625040098528  23.870604\n",
      "341  139625056924280  24.253792\n",
      "345  139625051547800  24.356365\n",
      "331  139625070617824  24.534729\n",
      "344  139625053047160  24.703714\n",
      "350  139625045696584  24.735127\n",
      "359  139625033231776  24.866910\n",
      "343  139625054444960  25.013111\n",
      "356  139625036591848  25.088423\n",
      "357  139625035707000  25.110988\n",
      "333  139625068323448  25.166521\n",
      "324  139625183648232  25.223250\n",
      "332  139625069732584  25.626381\n",
      "351  139625045147040  25.793447\n",
      "352  139625043745144  25.891963\n",
      "325  139625183711184  26.161741\n",
      "358  139625034285128  26.254621\n",
      "340  139625057813224  26.749932\n",
      "353  139625042253976  26.823927\n",
      "335  139625066364320  26.898160\n",
      "326  139625182383240  27.071414\n",
      "346  139625050793352  28.242339\n",
      "347  139625049392352  28.535444\n",
      "334  139625067438152  30.088149\n",
      "329  139625159890704  31.497483\n",
      "328  139625160982712  35.687804\n",
      "327  139625162226152  35.862466\n",
      "** Statistics **\n",
      "count    36.000000\n",
      "mean     25.917277\n",
      "std       3.143615\n",
      "min      22.026169\n",
      "25%      23.810004\n",
      "50%      25.099705\n",
      "75%      26.768431\n",
      "max      35.862466\n",
      "Name: loss, dtype: float64\n",
      "** Best hyperparameters **\n",
      "         l1:0     l2:0      l1:1     l2:1\n",
      "330  0.002008  0.00001  0.002008  0.00001\n"
     ]
    }
   ],
   "source": [
    "# ------------------------------------------\n",
    "# GRID SEARCH\n",
    "# ------------------------------------------\n",
    "\n",
    "# We create a population where we never explore new hyperparameters\n",
    "population = []\n",
    "for h in param_grid:\n",
    "    member = pbt.members.Member(build_fn(data_dim, **h),\n",
    "                                steps_ready=None)\n",
    "    population.append(member)\n",
    "\n",
    "res_gd = train_population(population, x_train, y_train, BATCH_SIZE,\n",
    "                          TOTAL_STEPS, STEPS_SAVE, VALIDATION_SPLIT)\n",
    "show_results(res_gd)"
   ]
  },
  {
   "cell_type": "code",
   "execution_count": 9,
   "metadata": {},
   "outputs": [
    {
     "name": "stdout",
     "output_type": "stream",
     "text": [
      "1000/1000 [==============================] - 428s 428ms/step - min: 21.7823 - max: 21.9551 - mean: 21.8081\n",
      "***** RESULTS *****\n",
      "** Ranking **\n",
      "            model_id       loss\n",
      "357  139624648720848  21.782267\n",
      "356  139624649610072  21.782267\n",
      "355  139624651019600  21.782267\n",
      "348  139624659432280  21.782267\n",
      "347  139624660845904  21.782267\n",
      "353  139624653277504  21.782267\n",
      "349  139624658026960  21.782267\n",
      "352  139624654670312  21.782267\n",
      "344  139624664504808  21.782269\n",
      "351  139624656076304  21.782269\n",
      "350  139624657154232  21.782270\n",
      "345  139624663095616  21.782270\n",
      "337  139624672397632  21.782272\n",
      "334  139624676282552  21.782272\n",
      "343  139624665378320  21.782273\n",
      "346  139624661734680  21.782274\n",
      "339  139624670143824  21.782278\n",
      "328  139624683072424  21.782282\n",
      "338  139624671556888  21.782285\n",
      "340  139624668738392  21.782296\n",
      "341  139624667849168  21.782303\n",
      "330  139624840994152  21.782305\n",
      "342  139624666452152  21.782323\n",
      "332  139624678679384  21.782336\n",
      "336  139624673802728  21.782373\n",
      "331  139624679699400  21.788143\n",
      "329  139624681644776  21.816507\n",
      "324  139625182383240  21.822021\n",
      "354  139624652428568  21.835130\n",
      "333  139624677192144  21.851765\n",
      "327  139624683810656  21.875186\n",
      "335  139624675204624  21.881685\n",
      "326  139624685328648  21.893447\n",
      "325  139625033231776  21.897202\n",
      "359  139624646258192  21.918402\n",
      "358  139624647319736  21.955107\n",
      "** Statistics **\n",
      "count    36.000000\n",
      "mean     21.808102\n",
      "std       0.047473\n",
      "min      21.782267\n",
      "25%      21.782269\n",
      "50%      21.782284\n",
      "75%      21.817885\n",
      "max      21.955107\n",
      "Name: loss, dtype: float64\n",
      "** Best hyperparameters **\n",
      "             l1:0          l2:0          l1:1          l2:1\n",
      "347  6.505920e-09  2.916000e-09  4.066199e-08  6.560999e-09\n"
     ]
    }
   ],
   "source": [
    "# ------------------------------------------\n",
    "# PBT\n",
    "# ------------------------------------------\n",
    "K.clear_session()\n",
    "\n",
    "# This time, the members will explore new hyperparameters\n",
    "population = []\n",
    "for h in param_grid:\n",
    "    member = pbt.members.Member(build_fn(data_dim, **h),\n",
    "                                steps_ready=STEPS_READY)\n",
    "    population.append(member)\n",
    "\n",
    "res_pbt = train_population(population, x_train, y_train, BATCH_SIZE,\n",
    "                           TOTAL_STEPS, STEPS_SAVE, VALIDATION_SPLIT)\n",
    "show_results(res_pbt)"
   ]
  }
 ],
 "metadata": {
  "kernelspec": {
   "display_name": "Python 3",
   "language": "python",
   "name": "python3"
  },
  "language_info": {
   "codemirror_mode": {
    "name": "ipython",
    "version": 3
   },
   "file_extension": ".py",
   "mimetype": "text/x-python",
   "name": "python",
   "nbconvert_exporter": "python",
   "pygments_lexer": "ipython3",
   "version": "3.6.6"
  }
 },
 "nbformat": 4,
 "nbformat_minor": 2
}
